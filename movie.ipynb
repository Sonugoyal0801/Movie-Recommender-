{
 "cells": [
  {
   "cell_type": "code",
   "execution_count": 1,
   "metadata": {},
   "outputs": [],
   "source": [
    "import numpy as np\n",
    "import pandas as pd"
   ]
  },
  {
   "cell_type": "code",
   "execution_count": 2,
   "metadata": {},
   "outputs": [],
   "source": [
    "df = pd.read_csv(\"E:\\\\pro\\\\ml-latest\\\\genome-scores.csv\")"
   ]
  },
  {
   "cell_type": "code",
   "execution_count": 3,
   "metadata": {},
   "outputs": [
    {
     "data": {
      "text/html": [
       "<div>\n",
       "<style scoped>\n",
       "    .dataframe tbody tr th:only-of-type {\n",
       "        vertical-align: middle;\n",
       "    }\n",
       "\n",
       "    .dataframe tbody tr th {\n",
       "        vertical-align: top;\n",
       "    }\n",
       "\n",
       "    .dataframe thead th {\n",
       "        text-align: right;\n",
       "    }\n",
       "</style>\n",
       "<table border=\"1\" class=\"dataframe\">\n",
       "  <thead>\n",
       "    <tr style=\"text-align: right;\">\n",
       "      <th></th>\n",
       "      <th>movieId</th>\n",
       "      <th>tagId</th>\n",
       "      <th>relevance</th>\n",
       "    </tr>\n",
       "  </thead>\n",
       "  <tbody>\n",
       "    <tr>\n",
       "      <th>0</th>\n",
       "      <td>1</td>\n",
       "      <td>1</td>\n",
       "      <td>0.02900</td>\n",
       "    </tr>\n",
       "    <tr>\n",
       "      <th>1</th>\n",
       "      <td>1</td>\n",
       "      <td>2</td>\n",
       "      <td>0.02375</td>\n",
       "    </tr>\n",
       "    <tr>\n",
       "      <th>2</th>\n",
       "      <td>1</td>\n",
       "      <td>3</td>\n",
       "      <td>0.05425</td>\n",
       "    </tr>\n",
       "    <tr>\n",
       "      <th>3</th>\n",
       "      <td>1</td>\n",
       "      <td>4</td>\n",
       "      <td>0.06875</td>\n",
       "    </tr>\n",
       "    <tr>\n",
       "      <th>4</th>\n",
       "      <td>1</td>\n",
       "      <td>5</td>\n",
       "      <td>0.16000</td>\n",
       "    </tr>\n",
       "  </tbody>\n",
       "</table>\n",
       "</div>"
      ],
      "text/plain": [
       "   movieId  tagId  relevance\n",
       "0        1      1    0.02900\n",
       "1        1      2    0.02375\n",
       "2        1      3    0.05425\n",
       "3        1      4    0.06875\n",
       "4        1      5    0.16000"
      ]
     },
     "execution_count": 3,
     "metadata": {},
     "output_type": "execute_result"
    }
   ],
   "source": [
    "df.head()"
   ]
  },
  {
   "cell_type": "code",
   "execution_count": 4,
   "metadata": {},
   "outputs": [],
   "source": [
    "m_title=pd.read_csv(\"E:\\\\pro\\\\ml-latest\\\\movies.csv\")"
   ]
  },
  {
   "cell_type": "code",
   "execution_count": 5,
   "metadata": {},
   "outputs": [
    {
     "data": {
      "text/html": [
       "<div>\n",
       "<style scoped>\n",
       "    .dataframe tbody tr th:only-of-type {\n",
       "        vertical-align: middle;\n",
       "    }\n",
       "\n",
       "    .dataframe tbody tr th {\n",
       "        vertical-align: top;\n",
       "    }\n",
       "\n",
       "    .dataframe thead th {\n",
       "        text-align: right;\n",
       "    }\n",
       "</style>\n",
       "<table border=\"1\" class=\"dataframe\">\n",
       "  <thead>\n",
       "    <tr style=\"text-align: right;\">\n",
       "      <th></th>\n",
       "      <th>movieId</th>\n",
       "      <th>title</th>\n",
       "      <th>genres</th>\n",
       "    </tr>\n",
       "  </thead>\n",
       "  <tbody>\n",
       "    <tr>\n",
       "      <th>0</th>\n",
       "      <td>1</td>\n",
       "      <td>Toy Story (1995)</td>\n",
       "      <td>Adventure|Animation|Children|Comedy|Fantasy</td>\n",
       "    </tr>\n",
       "    <tr>\n",
       "      <th>1</th>\n",
       "      <td>2</td>\n",
       "      <td>Jumanji (1995)</td>\n",
       "      <td>Adventure|Children|Fantasy</td>\n",
       "    </tr>\n",
       "    <tr>\n",
       "      <th>2</th>\n",
       "      <td>3</td>\n",
       "      <td>Grumpier Old Men (1995)</td>\n",
       "      <td>Comedy|Romance</td>\n",
       "    </tr>\n",
       "    <tr>\n",
       "      <th>3</th>\n",
       "      <td>4</td>\n",
       "      <td>Waiting to Exhale (1995)</td>\n",
       "      <td>Comedy|Drama|Romance</td>\n",
       "    </tr>\n",
       "    <tr>\n",
       "      <th>4</th>\n",
       "      <td>5</td>\n",
       "      <td>Father of the Bride Part II (1995)</td>\n",
       "      <td>Comedy</td>\n",
       "    </tr>\n",
       "  </tbody>\n",
       "</table>\n",
       "</div>"
      ],
      "text/plain": [
       "   movieId                               title  \\\n",
       "0        1                    Toy Story (1995)   \n",
       "1        2                      Jumanji (1995)   \n",
       "2        3             Grumpier Old Men (1995)   \n",
       "3        4            Waiting to Exhale (1995)   \n",
       "4        5  Father of the Bride Part II (1995)   \n",
       "\n",
       "                                        genres  \n",
       "0  Adventure|Animation|Children|Comedy|Fantasy  \n",
       "1                   Adventure|Children|Fantasy  \n",
       "2                               Comedy|Romance  \n",
       "3                         Comedy|Drama|Romance  \n",
       "4                                       Comedy  "
      ]
     },
     "execution_count": 5,
     "metadata": {},
     "output_type": "execute_result"
    }
   ],
   "source": [
    "m_title.head()"
   ]
  },
  {
   "cell_type": "code",
   "execution_count": 6,
   "metadata": {},
   "outputs": [],
   "source": [
    "df = pd.merge(df,m_title,on='movieId')"
   ]
  },
  {
   "cell_type": "code",
   "execution_count": 7,
   "metadata": {},
   "outputs": [
    {
     "data": {
      "text/html": [
       "<div>\n",
       "<style scoped>\n",
       "    .dataframe tbody tr th:only-of-type {\n",
       "        vertical-align: middle;\n",
       "    }\n",
       "\n",
       "    .dataframe tbody tr th {\n",
       "        vertical-align: top;\n",
       "    }\n",
       "\n",
       "    .dataframe thead th {\n",
       "        text-align: right;\n",
       "    }\n",
       "</style>\n",
       "<table border=\"1\" class=\"dataframe\">\n",
       "  <thead>\n",
       "    <tr style=\"text-align: right;\">\n",
       "      <th></th>\n",
       "      <th>movieId</th>\n",
       "      <th>tagId</th>\n",
       "      <th>relevance</th>\n",
       "      <th>title</th>\n",
       "      <th>genres</th>\n",
       "    </tr>\n",
       "  </thead>\n",
       "  <tbody>\n",
       "    <tr>\n",
       "      <th>0</th>\n",
       "      <td>1</td>\n",
       "      <td>1</td>\n",
       "      <td>0.02900</td>\n",
       "      <td>Toy Story (1995)</td>\n",
       "      <td>Adventure|Animation|Children|Comedy|Fantasy</td>\n",
       "    </tr>\n",
       "    <tr>\n",
       "      <th>1</th>\n",
       "      <td>1</td>\n",
       "      <td>2</td>\n",
       "      <td>0.02375</td>\n",
       "      <td>Toy Story (1995)</td>\n",
       "      <td>Adventure|Animation|Children|Comedy|Fantasy</td>\n",
       "    </tr>\n",
       "    <tr>\n",
       "      <th>2</th>\n",
       "      <td>1</td>\n",
       "      <td>3</td>\n",
       "      <td>0.05425</td>\n",
       "      <td>Toy Story (1995)</td>\n",
       "      <td>Adventure|Animation|Children|Comedy|Fantasy</td>\n",
       "    </tr>\n",
       "    <tr>\n",
       "      <th>3</th>\n",
       "      <td>1</td>\n",
       "      <td>4</td>\n",
       "      <td>0.06875</td>\n",
       "      <td>Toy Story (1995)</td>\n",
       "      <td>Adventure|Animation|Children|Comedy|Fantasy</td>\n",
       "    </tr>\n",
       "    <tr>\n",
       "      <th>4</th>\n",
       "      <td>1</td>\n",
       "      <td>5</td>\n",
       "      <td>0.16000</td>\n",
       "      <td>Toy Story (1995)</td>\n",
       "      <td>Adventure|Animation|Children|Comedy|Fantasy</td>\n",
       "    </tr>\n",
       "  </tbody>\n",
       "</table>\n",
       "</div>"
      ],
      "text/plain": [
       "   movieId  tagId  relevance             title  \\\n",
       "0        1      1    0.02900  Toy Story (1995)   \n",
       "1        1      2    0.02375  Toy Story (1995)   \n",
       "2        1      3    0.05425  Toy Story (1995)   \n",
       "3        1      4    0.06875  Toy Story (1995)   \n",
       "4        1      5    0.16000  Toy Story (1995)   \n",
       "\n",
       "                                        genres  \n",
       "0  Adventure|Animation|Children|Comedy|Fantasy  \n",
       "1  Adventure|Animation|Children|Comedy|Fantasy  \n",
       "2  Adventure|Animation|Children|Comedy|Fantasy  \n",
       "3  Adventure|Animation|Children|Comedy|Fantasy  \n",
       "4  Adventure|Animation|Children|Comedy|Fantasy  "
      ]
     },
     "execution_count": 7,
     "metadata": {},
     "output_type": "execute_result"
    }
   ],
   "source": [
    "df.head()"
   ]
  },
  {
   "cell_type": "code",
   "execution_count": 8,
   "metadata": {},
   "outputs": [],
   "source": [
    "import matplotlib.pyplot as plt\n",
    "import seaborn as sns\n",
    "sns.set_style('white')\n",
    "%matplotlib inline"
   ]
  },
  {
   "cell_type": "code",
   "execution_count": 9,
   "metadata": {},
   "outputs": [
    {
     "data": {
      "text/plain": [
       "title\n",
       "Sherlock - A Study in Pink (2010)             0.328598\n",
       "Welcome to Dongmakgol (2005)                  0.309769\n",
       "Band Called Death, A (2012)                   0.297122\n",
       "Confession of Murder (2012)                   0.283310\n",
       "Patton Oswalt: Talking for Clapping (2016)    0.259640\n",
       "Name: relevance, dtype: float64"
      ]
     },
     "execution_count": 9,
     "metadata": {},
     "output_type": "execute_result"
    }
   ],
   "source": [
    "df.groupby('title')['relevance'].mean().sort_values(ascending=False).head()"
   ]
  },
  {
   "cell_type": "code",
   "execution_count": 10,
   "metadata": {},
   "outputs": [
    {
     "data": {
      "text/plain": [
       "title\n",
       "Emma (1996)                               2256\n",
       "War of the Worlds (2005)                  2256\n",
       "Confessions of a Dangerous Mind (2002)    2256\n",
       "\"Great Performances\" Cats (1998)          1128\n",
       "Past, The (Le passé) (2013)               1128\n",
       "Name: relevance, dtype: int64"
      ]
     },
     "execution_count": 10,
     "metadata": {},
     "output_type": "execute_result"
    }
   ],
   "source": [
    "df.groupby('title')['relevance'].count().sort_values(ascending=False).head()"
   ]
  },
  {
   "cell_type": "code",
   "execution_count": 11,
   "metadata": {},
   "outputs": [
    {
     "data": {
      "text/html": [
       "<div>\n",
       "<style scoped>\n",
       "    .dataframe tbody tr th:only-of-type {\n",
       "        vertical-align: middle;\n",
       "    }\n",
       "\n",
       "    .dataframe tbody tr th {\n",
       "        vertical-align: top;\n",
       "    }\n",
       "\n",
       "    .dataframe thead th {\n",
       "        text-align: right;\n",
       "    }\n",
       "</style>\n",
       "<table border=\"1\" class=\"dataframe\">\n",
       "  <thead>\n",
       "    <tr style=\"text-align: right;\">\n",
       "      <th></th>\n",
       "      <th>relevance</th>\n",
       "    </tr>\n",
       "    <tr>\n",
       "      <th>title</th>\n",
       "      <th></th>\n",
       "    </tr>\n",
       "  </thead>\n",
       "  <tbody>\n",
       "    <tr>\n",
       "      <th>\"Great Performances\" Cats (1998)</th>\n",
       "      <td>0.097704</td>\n",
       "    </tr>\n",
       "    <tr>\n",
       "      <th>$5 a Day (2008)</th>\n",
       "      <td>0.116312</td>\n",
       "    </tr>\n",
       "    <tr>\n",
       "      <th>$9.99 (2008)</th>\n",
       "      <td>0.094136</td>\n",
       "    </tr>\n",
       "    <tr>\n",
       "      <th>'71 (2014)</th>\n",
       "      <td>0.113324</td>\n",
       "    </tr>\n",
       "    <tr>\n",
       "      <th>'Hellboy': The Seeds of Creation (2004)</th>\n",
       "      <td>0.115221</td>\n",
       "    </tr>\n",
       "  </tbody>\n",
       "</table>\n",
       "</div>"
      ],
      "text/plain": [
       "                                         relevance\n",
       "title                                             \n",
       "\"Great Performances\" Cats (1998)          0.097704\n",
       "$5 a Day (2008)                           0.116312\n",
       "$9.99 (2008)                              0.094136\n",
       "'71 (2014)                                0.113324\n",
       "'Hellboy': The Seeds of Creation (2004)   0.115221"
      ]
     },
     "execution_count": 11,
     "metadata": {},
     "output_type": "execute_result"
    }
   ],
   "source": [
    "relevance = pd.DataFrame(df.groupby('title')['relevance'].mean())\n",
    "relevance.head()"
   ]
  },
  {
   "cell_type": "code",
   "execution_count": 12,
   "metadata": {},
   "outputs": [
    {
     "data": {
      "text/html": [
       "<div>\n",
       "<style scoped>\n",
       "    .dataframe tbody tr th:only-of-type {\n",
       "        vertical-align: middle;\n",
       "    }\n",
       "\n",
       "    .dataframe tbody tr th {\n",
       "        vertical-align: top;\n",
       "    }\n",
       "\n",
       "    .dataframe thead th {\n",
       "        text-align: right;\n",
       "    }\n",
       "</style>\n",
       "<table border=\"1\" class=\"dataframe\">\n",
       "  <thead>\n",
       "    <tr style=\"text-align: right;\">\n",
       "      <th></th>\n",
       "      <th>relevance</th>\n",
       "      <th>num of relevance</th>\n",
       "    </tr>\n",
       "    <tr>\n",
       "      <th>title</th>\n",
       "      <th></th>\n",
       "      <th></th>\n",
       "    </tr>\n",
       "  </thead>\n",
       "  <tbody>\n",
       "    <tr>\n",
       "      <th>\"Great Performances\" Cats (1998)</th>\n",
       "      <td>0.097704</td>\n",
       "      <td>1128</td>\n",
       "    </tr>\n",
       "    <tr>\n",
       "      <th>$5 a Day (2008)</th>\n",
       "      <td>0.116312</td>\n",
       "      <td>1128</td>\n",
       "    </tr>\n",
       "    <tr>\n",
       "      <th>$9.99 (2008)</th>\n",
       "      <td>0.094136</td>\n",
       "      <td>1128</td>\n",
       "    </tr>\n",
       "    <tr>\n",
       "      <th>'71 (2014)</th>\n",
       "      <td>0.113324</td>\n",
       "      <td>1128</td>\n",
       "    </tr>\n",
       "    <tr>\n",
       "      <th>'Hellboy': The Seeds of Creation (2004)</th>\n",
       "      <td>0.115221</td>\n",
       "      <td>1128</td>\n",
       "    </tr>\n",
       "  </tbody>\n",
       "</table>\n",
       "</div>"
      ],
      "text/plain": [
       "                                         relevance  num of relevance\n",
       "title                                                               \n",
       "\"Great Performances\" Cats (1998)          0.097704              1128\n",
       "$5 a Day (2008)                           0.116312              1128\n",
       "$9.99 (2008)                              0.094136              1128\n",
       "'71 (2014)                                0.113324              1128\n",
       "'Hellboy': The Seeds of Creation (2004)   0.115221              1128"
      ]
     },
     "execution_count": 12,
     "metadata": {},
     "output_type": "execute_result"
    }
   ],
   "source": [
    "relevance['num of relevance'] = pd.DataFrame(df.groupby('title')['relevance'].count())\n",
    "relevance.head()"
   ]
  },
  {
   "cell_type": "code",
   "execution_count": 13,
   "metadata": {},
   "outputs": [
    {
     "data": {
      "text/plain": [
       "<AxesSubplot:>"
      ]
     },
     "execution_count": 13,
     "metadata": {},
     "output_type": "execute_result"
    },
    {
     "data": {
      "image/png": "[encoded data removed]",
      "text/plain": [
       "<Figure size 720x288 with 1 Axes>"
      ]
     },
     "metadata": {
      "needs_background": "light"
     },
     "output_type": "display_data"
    }
   ],
   "source": [
    "plt.figure(figsize=(10,4))\n",
    "relevance['num of relevance'].hist(bins=100)"
   ]
  },
  {
   "cell_type": "code",
   "execution_count": 14,
   "metadata": {},
   "outputs": [
    {
     "data": {
      "text/plain": [
       "<AxesSubplot:>"
      ]
     },
     "execution_count": 14,
     "metadata": {},
     "output_type": "execute_result"
    },
    {
     "data": {
      "image/png": "[encoded data removed]",
      "text/plain": [
       "<Figure size 720x288 with 1 Axes>"
      ]
     },
     "metadata": {
      "needs_background": "light"
     },
     "output_type": "display_data"
    }
   ],
   "source": [
    "plt.figure(figsize=(10,4))\n",
    "relevance['relevance'].hist(bins=70)"
   ]
  },
  {
   "cell_type": "code",
   "execution_count": 15,
   "metadata": {},
   "outputs": [
    {
     "data": {
      "text/plain": [
       "<seaborn.axisgrid.JointGrid at 0x1b2809d3ca0>"
      ]
     },
     "execution_count": 15,
     "metadata": {},
     "output_type": "execute_result"
    },
    {
     "data": {
      "image/png": "[encoded data removed]",
      "text/plain": [
       "<Figure size 432x432 with 3 Axes>"
      ]
     },
     "metadata": {
      "needs_background": "light"
     },
     "output_type": "display_data"
    }
   ],
   "source": [
    "sns.jointplot(x='num of relevance',y='relevance',data=relevance,alpha=0.5)"
   ]
  },
  {
   "cell_type": "code",
   "execution_count": 16,
   "metadata": {},
   "outputs": [
    {
     "data": {
      "text/html": [
       "<div>\n",
       "<style scoped>\n",
       "    .dataframe tbody tr th:only-of-type {\n",
       "        vertical-align: middle;\n",
       "    }\n",
       "\n",
       "    .dataframe tbody tr th {\n",
       "        vertical-align: top;\n",
       "    }\n",
       "\n",
       "    .dataframe thead th {\n",
       "        text-align: right;\n",
       "    }\n",
       "</style>\n",
       "<table border=\"1\" class=\"dataframe\">\n",
       "  <thead>\n",
       "    <tr style=\"text-align: right;\">\n",
       "      <th>title</th>\n",
       "      <th>\"Great Performances\" Cats (1998)</th>\n",
       "      <th>$5 a Day (2008)</th>\n",
       "      <th>$9.99 (2008)</th>\n",
       "      <th>'71 (2014)</th>\n",
       "      <th>'Hellboy': The Seeds of Creation (2004)</th>\n",
       "      <th>'Round Midnight (1986)</th>\n",
       "      <th>'Salem's Lot (2004)</th>\n",
       "      <th>'Til There Was You (1997)</th>\n",
       "      <th>'burbs, The (1989)</th>\n",
       "      <th>'night Mother (1986)</th>\n",
       "      <th>...</th>\n",
       "      <th>[REC]² (2009)</th>\n",
       "      <th>[REC]³ 3 Génesis (2012)</th>\n",
       "      <th>eXistenZ (1999)</th>\n",
       "      <th>iBoy (2017)</th>\n",
       "      <th>loudQUIETloud: A Film About the Pixies (2006)</th>\n",
       "      <th>xXx (2002)</th>\n",
       "      <th>xXx: Return of Xander Cage (2017)</th>\n",
       "      <th>xXx: State of the Union (2005)</th>\n",
       "      <th>¡Three Amigos! (1986)</th>\n",
       "      <th>À nous la liberté (Freedom for Us) (1931)</th>\n",
       "    </tr>\n",
       "    <tr>\n",
       "      <th>tagId</th>\n",
       "      <th></th>\n",
       "      <th></th>\n",
       "      <th></th>\n",
       "      <th></th>\n",
       "      <th></th>\n",
       "      <th></th>\n",
       "      <th></th>\n",
       "      <th></th>\n",
       "      <th></th>\n",
       "      <th></th>\n",
       "      <th></th>\n",
       "      <th></th>\n",
       "      <th></th>\n",
       "      <th></th>\n",
       "      <th></th>\n",
       "      <th></th>\n",
       "      <th></th>\n",
       "      <th></th>\n",
       "      <th></th>\n",
       "      <th></th>\n",
       "      <th></th>\n",
       "    </tr>\n",
       "  </thead>\n",
       "  <tbody>\n",
       "    <tr>\n",
       "      <th>1</th>\n",
       "      <td>0.04650</td>\n",
       "      <td>0.17825</td>\n",
       "      <td>0.01775</td>\n",
       "      <td>0.01425</td>\n",
       "      <td>0.02700</td>\n",
       "      <td>0.02075</td>\n",
       "      <td>0.03800</td>\n",
       "      <td>0.04600</td>\n",
       "      <td>0.02975</td>\n",
       "      <td>0.02175</td>\n",
       "      <td>...</td>\n",
       "      <td>0.04175</td>\n",
       "      <td>0.03825</td>\n",
       "      <td>0.02400</td>\n",
       "      <td>0.03325</td>\n",
       "      <td>0.02450</td>\n",
       "      <td>0.91600</td>\n",
       "      <td>0.30575</td>\n",
       "      <td>0.68250</td>\n",
       "      <td>0.04000</td>\n",
       "      <td>0.01625</td>\n",
       "    </tr>\n",
       "    <tr>\n",
       "      <th>2</th>\n",
       "      <td>0.05525</td>\n",
       "      <td>0.18275</td>\n",
       "      <td>0.02375</td>\n",
       "      <td>0.01400</td>\n",
       "      <td>0.02250</td>\n",
       "      <td>0.02275</td>\n",
       "      <td>0.03650</td>\n",
       "      <td>0.05175</td>\n",
       "      <td>0.02750</td>\n",
       "      <td>0.02525</td>\n",
       "      <td>...</td>\n",
       "      <td>0.04175</td>\n",
       "      <td>0.03325</td>\n",
       "      <td>0.02125</td>\n",
       "      <td>0.03075</td>\n",
       "      <td>0.02750</td>\n",
       "      <td>0.95825</td>\n",
       "      <td>0.04775</td>\n",
       "      <td>0.10075</td>\n",
       "      <td>0.04525</td>\n",
       "      <td>0.01950</td>\n",
       "    </tr>\n",
       "    <tr>\n",
       "      <th>3</th>\n",
       "      <td>0.04800</td>\n",
       "      <td>0.01775</td>\n",
       "      <td>0.01900</td>\n",
       "      <td>0.04575</td>\n",
       "      <td>0.03825</td>\n",
       "      <td>0.04325</td>\n",
       "      <td>0.21825</td>\n",
       "      <td>0.03975</td>\n",
       "      <td>0.03400</td>\n",
       "      <td>0.03175</td>\n",
       "      <td>...</td>\n",
       "      <td>0.03725</td>\n",
       "      <td>0.07250</td>\n",
       "      <td>0.09950</td>\n",
       "      <td>0.04150</td>\n",
       "      <td>0.05950</td>\n",
       "      <td>0.02650</td>\n",
       "      <td>0.02400</td>\n",
       "      <td>0.02375</td>\n",
       "      <td>0.03175</td>\n",
       "      <td>0.08050</td>\n",
       "    </tr>\n",
       "    <tr>\n",
       "      <th>4</th>\n",
       "      <td>0.03850</td>\n",
       "      <td>0.01700</td>\n",
       "      <td>0.03550</td>\n",
       "      <td>0.04950</td>\n",
       "      <td>0.04600</td>\n",
       "      <td>0.06575</td>\n",
       "      <td>0.06550</td>\n",
       "      <td>0.03900</td>\n",
       "      <td>0.03450</td>\n",
       "      <td>0.03050</td>\n",
       "      <td>...</td>\n",
       "      <td>0.05525</td>\n",
       "      <td>0.03025</td>\n",
       "      <td>0.05475</td>\n",
       "      <td>0.03625</td>\n",
       "      <td>0.05325</td>\n",
       "      <td>0.03500</td>\n",
       "      <td>0.02700</td>\n",
       "      <td>0.02475</td>\n",
       "      <td>0.08675</td>\n",
       "      <td>0.27675</td>\n",
       "    </tr>\n",
       "    <tr>\n",
       "      <th>5</th>\n",
       "      <td>0.07125</td>\n",
       "      <td>0.21725</td>\n",
       "      <td>0.07950</td>\n",
       "      <td>0.12775</td>\n",
       "      <td>0.09225</td>\n",
       "      <td>0.39350</td>\n",
       "      <td>0.05900</td>\n",
       "      <td>0.05325</td>\n",
       "      <td>0.09950</td>\n",
       "      <td>0.06550</td>\n",
       "      <td>...</td>\n",
       "      <td>0.10450</td>\n",
       "      <td>0.06175</td>\n",
       "      <td>0.04700</td>\n",
       "      <td>0.06050</td>\n",
       "      <td>0.11825</td>\n",
       "      <td>0.03500</td>\n",
       "      <td>0.03200</td>\n",
       "      <td>0.03025</td>\n",
       "      <td>0.08275</td>\n",
       "      <td>0.78300</td>\n",
       "    </tr>\n",
       "  </tbody>\n",
       "</table>\n",
       "<p>5 rows × 13173 columns</p>\n",
       "</div>"
      ],
      "text/plain": [
       "title  \"Great Performances\" Cats (1998)  $5 a Day (2008)  $9.99 (2008)  \\\n",
       "tagId                                                                    \n",
       "1                               0.04650          0.17825       0.01775   \n",
       "2                               0.05525          0.18275       0.02375   \n",
       "3                               0.04800          0.01775       0.01900   \n",
       "4                               0.03850          0.01700       0.03550   \n",
       "5                               0.07125          0.21725       0.07950   \n",
       "\n",
       "title  '71 (2014)  'Hellboy': The Seeds of Creation (2004)  \\\n",
       "tagId                                                        \n",
       "1         0.01425                                  0.02700   \n",
       "2         0.01400                                  0.02250   \n",
       "3         0.04575                                  0.03825   \n",
       "4         0.04950                                  0.04600   \n",
       "5         0.12775                                  0.09225   \n",
       "\n",
       "title  'Round Midnight (1986)  'Salem's Lot (2004)  'Til There Was You (1997)  \\\n",
       "tagId                                                                           \n",
       "1                     0.02075              0.03800                    0.04600   \n",
       "2                     0.02275              0.03650                    0.05175   \n",
       "3                     0.04325              0.21825                    0.03975   \n",
       "4                     0.06575              0.06550                    0.03900   \n",
       "5                     0.39350              0.05900                    0.05325   \n",
       "\n",
       "title  'burbs, The (1989)  'night Mother (1986)  ...  [REC]² (2009)  \\\n",
       "tagId                                            ...                  \n",
       "1                 0.02975               0.02175  ...        0.04175   \n",
       "2                 0.02750               0.02525  ...        0.04175   \n",
       "3                 0.03400               0.03175  ...        0.03725   \n",
       "4                 0.03450               0.03050  ...        0.05525   \n",
       "5                 0.09950               0.06550  ...        0.10450   \n",
       "\n",
       "title  [REC]³ 3 Génesis (2012)  eXistenZ (1999)  iBoy (2017)  \\\n",
       "tagId                                                          \n",
       "1                      0.03825          0.02400      0.03325   \n",
       "2                      0.03325          0.02125      0.03075   \n",
       "3                      0.07250          0.09950      0.04150   \n",
       "4                      0.03025          0.05475      0.03625   \n",
       "5                      0.06175          0.04700      0.06050   \n",
       "\n",
       "title  loudQUIETloud: A Film About the Pixies (2006)  xXx (2002)  \\\n",
       "tagId                                                              \n",
       "1                                            0.02450     0.91600   \n",
       "2                                            0.02750     0.95825   \n",
       "3                                            0.05950     0.02650   \n",
       "4                                            0.05325     0.03500   \n",
       "5                                            0.11825     0.03500   \n",
       "\n",
       "title  xXx: Return of Xander Cage (2017)  xXx: State of the Union (2005)  \\\n",
       "tagId                                                                      \n",
       "1                                0.30575                         0.68250   \n",
       "2                                0.04775                         0.10075   \n",
       "3                                0.02400                         0.02375   \n",
       "4                                0.02700                         0.02475   \n",
       "5                                0.03200                         0.03025   \n",
       "\n",
       "title  ¡Three Amigos! (1986)  À nous la liberté (Freedom for Us) (1931)  \n",
       "tagId                                                                    \n",
       "1                    0.04000                                    0.01625  \n",
       "2                    0.04525                                    0.01950  \n",
       "3                    0.03175                                    0.08050  \n",
       "4                    0.08675                                    0.27675  \n",
       "5                    0.08275                                    0.78300  \n",
       "\n",
       "[5 rows x 13173 columns]"
      ]
     },
     "execution_count": 16,
     "metadata": {},
     "output_type": "execute_result"
    }
   ],
   "source": [
    "moviemat = df.pivot_table(index='tagId',columns='title',values='relevance')\n",
    "moviemat.head()"
   ]
  },
  {
   "cell_type": "code",
   "execution_count": 18,
   "metadata": {},
   "outputs": [
    {
     "data": {
      "text/plain": [
       "<bound method NDFrame.head of                                                    relevance  num of relevance\n",
       "title                                                                         \n",
       "Emma (1996)                                         0.105950              2256\n",
       "War of the Worlds (2005)                            0.137476              2256\n",
       "Confessions of a Dangerous Mind (2002)              0.147102              2256\n",
       "\"Great Performances\" Cats (1998)                    0.097704              1128\n",
       "Past, The (Le passé) (2013)                         0.120262              1128\n",
       "...                                                      ...               ...\n",
       "From Russia with Love (1963)                        0.143605              1128\n",
       "From Up on Poppy Hill (Kokuriko-zaka kara) (2011)   0.156169              1128\n",
       "From the Earth to the Moon (1998)                   0.172217              1128\n",
       "From the Hip (1987)                                 0.110905              1128\n",
       "À nous la liberté (Freedom for Us) (1931)           0.098296              1128\n",
       "\n",
       "[13173 rows x 2 columns]>"
      ]
     },
     "execution_count": 18,
     "metadata": {},
     "output_type": "execute_result"
    }
   ],
   "source": [
    "relevance.sort_values('num of relevance',ascending=False).head"
   ]
  },
  {
   "cell_type": "code",
   "execution_count": 19,
   "metadata": {},
   "outputs": [
    {
     "data": {
      "text/html": [
       "<div>\n",
       "<style scoped>\n",
       "    .dataframe tbody tr th:only-of-type {\n",
       "        vertical-align: middle;\n",
       "    }\n",
       "\n",
       "    .dataframe tbody tr th {\n",
       "        vertical-align: top;\n",
       "    }\n",
       "\n",
       "    .dataframe thead th {\n",
       "        text-align: right;\n",
       "    }\n",
       "</style>\n",
       "<table border=\"1\" class=\"dataframe\">\n",
       "  <thead>\n",
       "    <tr style=\"text-align: right;\">\n",
       "      <th></th>\n",
       "      <th>relevance</th>\n",
       "      <th>num of relevance</th>\n",
       "    </tr>\n",
       "    <tr>\n",
       "      <th>title</th>\n",
       "      <th></th>\n",
       "      <th></th>\n",
       "    </tr>\n",
       "  </thead>\n",
       "  <tbody>\n",
       "    <tr>\n",
       "      <th>\"Great Performances\" Cats (1998)</th>\n",
       "      <td>0.097704</td>\n",
       "      <td>1128</td>\n",
       "    </tr>\n",
       "    <tr>\n",
       "      <th>$5 a Day (2008)</th>\n",
       "      <td>0.116312</td>\n",
       "      <td>1128</td>\n",
       "    </tr>\n",
       "    <tr>\n",
       "      <th>$9.99 (2008)</th>\n",
       "      <td>0.094136</td>\n",
       "      <td>1128</td>\n",
       "    </tr>\n",
       "    <tr>\n",
       "      <th>'71 (2014)</th>\n",
       "      <td>0.113324</td>\n",
       "      <td>1128</td>\n",
       "    </tr>\n",
       "    <tr>\n",
       "      <th>'Hellboy': The Seeds of Creation (2004)</th>\n",
       "      <td>0.115221</td>\n",
       "      <td>1128</td>\n",
       "    </tr>\n",
       "  </tbody>\n",
       "</table>\n",
       "</div>"
      ],
      "text/plain": [
       "                                         relevance  num of relevance\n",
       "title                                                               \n",
       "\"Great Performances\" Cats (1998)          0.097704              1128\n",
       "$5 a Day (2008)                           0.116312              1128\n",
       "$9.99 (2008)                              0.094136              1128\n",
       "'71 (2014)                                0.113324              1128\n",
       "'Hellboy': The Seeds of Creation (2004)   0.115221              1128"
      ]
     },
     "execution_count": 19,
     "metadata": {},
     "output_type": "execute_result"
    }
   ],
   "source": [
    "relevance.head()"
   ]
  },
  {
   "cell_type": "code",
   "execution_count": 23,
   "metadata": {},
   "outputs": [
    {
     "data": {
      "text/plain": [
       "tagId\n",
       "1    0.17825\n",
       "2    0.18275\n",
       "3    0.01775\n",
       "4    0.01700\n",
       "5    0.21725\n",
       "Name: $5 a Day (2008), dtype: float64"
      ]
     },
     "execution_count": 23,
     "metadata": {},
     "output_type": "execute_result"
    }
   ],
   "source": [
    "starwars_user_relevance = moviemat['$5 a Day (2008)']\n",
    "liarliar_user_relevance = moviemat['$9.99 (2008)']\n",
    "starwars_user_relevance.head()"
   ]
  },
  {
   "cell_type": "code",
   "execution_count": 24,
   "metadata": {},
   "outputs": [],
   "source": [
    "similar_to_starwars = moviemat.corrwith(starwars_user_relevance)\n",
    "similar_to_liarliar = moviemat.corrwith(liarliar_user_relevance)\n"
   ]
  },
  {
   "cell_type": "code",
   "execution_count": 25,
   "metadata": {},
   "outputs": [
    {
     "data": {
      "text/html": [
       "<div>\n",
       "<style scoped>\n",
       "    .dataframe tbody tr th:only-of-type {\n",
       "        vertical-align: middle;\n",
       "    }\n",
       "\n",
       "    .dataframe tbody tr th {\n",
       "        vertical-align: top;\n",
       "    }\n",
       "\n",
       "    .dataframe thead th {\n",
       "        text-align: right;\n",
       "    }\n",
       "</style>\n",
       "<table border=\"1\" class=\"dataframe\">\n",
       "  <thead>\n",
       "    <tr style=\"text-align: right;\">\n",
       "      <th></th>\n",
       "      <th>Correlation</th>\n",
       "    </tr>\n",
       "    <tr>\n",
       "      <th>title</th>\n",
       "      <th></th>\n",
       "    </tr>\n",
       "  </thead>\n",
       "  <tbody>\n",
       "    <tr>\n",
       "      <th>\"Great Performances\" Cats (1998)</th>\n",
       "      <td>0.404074</td>\n",
       "    </tr>\n",
       "    <tr>\n",
       "      <th>$5 a Day (2008)</th>\n",
       "      <td>1.000000</td>\n",
       "    </tr>\n",
       "    <tr>\n",
       "      <th>$9.99 (2008)</th>\n",
       "      <td>0.363897</td>\n",
       "    </tr>\n",
       "    <tr>\n",
       "      <th>'71 (2014)</th>\n",
       "      <td>0.315222</td>\n",
       "    </tr>\n",
       "    <tr>\n",
       "      <th>'Hellboy': The Seeds of Creation (2004)</th>\n",
       "      <td>0.450926</td>\n",
       "    </tr>\n",
       "  </tbody>\n",
       "</table>\n",
       "</div>"
      ],
      "text/plain": [
       "                                         Correlation\n",
       "title                                               \n",
       "\"Great Performances\" Cats (1998)            0.404074\n",
       "$5 a Day (2008)                             1.000000\n",
       "$9.99 (2008)                                0.363897\n",
       "'71 (2014)                                  0.315222\n",
       "'Hellboy': The Seeds of Creation (2004)     0.450926"
      ]
     },
     "execution_count": 25,
     "metadata": {},
     "output_type": "execute_result"
    }
   ],
   "source": [
    "corr_starwars = pd.DataFrame(similar_to_starwars,columns=['Correlation'])\n",
    "corr_starwars.dropna(inplace=True)\n",
    "corr_starwars.head()"
   ]
  },
  {
   "cell_type": "code",
   "execution_count": 26,
   "metadata": {},
   "outputs": [
    {
     "data": {
      "text/html": [
       "<div>\n",
       "<style scoped>\n",
       "    .dataframe tbody tr th:only-of-type {\n",
       "        vertical-align: middle;\n",
       "    }\n",
       "\n",
       "    .dataframe tbody tr th {\n",
       "        vertical-align: top;\n",
       "    }\n",
       "\n",
       "    .dataframe thead th {\n",
       "        text-align: right;\n",
       "    }\n",
       "</style>\n",
       "<table border=\"1\" class=\"dataframe\">\n",
       "  <thead>\n",
       "    <tr style=\"text-align: right;\">\n",
       "      <th></th>\n",
       "      <th>Correlation</th>\n",
       "    </tr>\n",
       "    <tr>\n",
       "      <th>title</th>\n",
       "      <th></th>\n",
       "    </tr>\n",
       "  </thead>\n",
       "  <tbody>\n",
       "    <tr>\n",
       "      <th>$5 a Day (2008)</th>\n",
       "      <td>1.000000</td>\n",
       "    </tr>\n",
       "    <tr>\n",
       "      <th>Duets (2000)</th>\n",
       "      <td>0.622462</td>\n",
       "    </tr>\n",
       "    <tr>\n",
       "      <th>Jeff, Who Lives at Home (2012)</th>\n",
       "      <td>0.603878</td>\n",
       "    </tr>\n",
       "    <tr>\n",
       "      <th>Waking Up in Reno (2002)</th>\n",
       "      <td>0.598059</td>\n",
       "    </tr>\n",
       "    <tr>\n",
       "      <th>Larger Than Life (1996)</th>\n",
       "      <td>0.582458</td>\n",
       "    </tr>\n",
       "    <tr>\n",
       "      <th>Great Buck Howard, The (2008)</th>\n",
       "      <td>0.579468</td>\n",
       "    </tr>\n",
       "    <tr>\n",
       "      <th>Lapland Odyssey (Napapiirin sankarit) (2010)</th>\n",
       "      <td>0.577392</td>\n",
       "    </tr>\n",
       "    <tr>\n",
       "      <th>Mr. Saturday Night (1992)</th>\n",
       "      <td>0.577134</td>\n",
       "    </tr>\n",
       "    <tr>\n",
       "      <th>Roommates (1995)</th>\n",
       "      <td>0.574979</td>\n",
       "    </tr>\n",
       "    <tr>\n",
       "      <th>10 Items or Less (2006)</th>\n",
       "      <td>0.574163</td>\n",
       "    </tr>\n",
       "  </tbody>\n",
       "</table>\n",
       "</div>"
      ],
      "text/plain": [
       "                                              Correlation\n",
       "title                                                    \n",
       "$5 a Day (2008)                                  1.000000\n",
       "Duets (2000)                                     0.622462\n",
       "Jeff, Who Lives at Home (2012)                   0.603878\n",
       "Waking Up in Reno (2002)                         0.598059\n",
       "Larger Than Life (1996)                          0.582458\n",
       "Great Buck Howard, The (2008)                    0.579468\n",
       "Lapland Odyssey (Napapiirin sankarit) (2010)     0.577392\n",
       "Mr. Saturday Night (1992)                        0.577134\n",
       "Roommates (1995)                                 0.574979\n",
       "10 Items or Less (2006)                          0.574163"
      ]
     },
     "execution_count": 26,
     "metadata": {},
     "output_type": "execute_result"
    }
   ],
   "source": [
    "corr_starwars.sort_values('Correlation',ascending=False).head(10)"
   ]
  },
  {
   "cell_type": "code",
   "execution_count": 27,
   "metadata": {},
   "outputs": [
    {
     "data": {
      "text/html": [
       "<div>\n",
       "<style scoped>\n",
       "    .dataframe tbody tr th:only-of-type {\n",
       "        vertical-align: middle;\n",
       "    }\n",
       "\n",
       "    .dataframe tbody tr th {\n",
       "        vertical-align: top;\n",
       "    }\n",
       "\n",
       "    .dataframe thead th {\n",
       "        text-align: right;\n",
       "    }\n",
       "</style>\n",
       "<table border=\"1\" class=\"dataframe\">\n",
       "  <thead>\n",
       "    <tr style=\"text-align: right;\">\n",
       "      <th></th>\n",
       "      <th>Correlation</th>\n",
       "      <th>num of relevance</th>\n",
       "    </tr>\n",
       "    <tr>\n",
       "      <th>title</th>\n",
       "      <th></th>\n",
       "      <th></th>\n",
       "    </tr>\n",
       "  </thead>\n",
       "  <tbody>\n",
       "    <tr>\n",
       "      <th>\"Great Performances\" Cats (1998)</th>\n",
       "      <td>0.404074</td>\n",
       "      <td>1128</td>\n",
       "    </tr>\n",
       "    <tr>\n",
       "      <th>$5 a Day (2008)</th>\n",
       "      <td>1.000000</td>\n",
       "      <td>1128</td>\n",
       "    </tr>\n",
       "    <tr>\n",
       "      <th>$9.99 (2008)</th>\n",
       "      <td>0.363897</td>\n",
       "      <td>1128</td>\n",
       "    </tr>\n",
       "    <tr>\n",
       "      <th>'71 (2014)</th>\n",
       "      <td>0.315222</td>\n",
       "      <td>1128</td>\n",
       "    </tr>\n",
       "    <tr>\n",
       "      <th>'Hellboy': The Seeds of Creation (2004)</th>\n",
       "      <td>0.450926</td>\n",
       "      <td>1128</td>\n",
       "    </tr>\n",
       "  </tbody>\n",
       "</table>\n",
       "</div>"
      ],
      "text/plain": [
       "                                         Correlation  num of relevance\n",
       "title                                                                 \n",
       "\"Great Performances\" Cats (1998)            0.404074              1128\n",
       "$5 a Day (2008)                             1.000000              1128\n",
       "$9.99 (2008)                                0.363897              1128\n",
       "'71 (2014)                                  0.315222              1128\n",
       "'Hellboy': The Seeds of Creation (2004)     0.450926              1128"
      ]
     },
     "execution_count": 27,
     "metadata": {},
     "output_type": "execute_result"
    }
   ],
   "source": [
    "corr_starwars = corr_starwars.join(relevance['num of relevance'])\n",
    "corr_starwars.head()"
   ]
  },
  {
   "cell_type": "code",
   "execution_count": 28,
   "metadata": {},
   "outputs": [
    {
     "data": {
      "text/html": [
       "<div>\n",
       "<style scoped>\n",
       "    .dataframe tbody tr th:only-of-type {\n",
       "        vertical-align: middle;\n",
       "    }\n",
       "\n",
       "    .dataframe tbody tr th {\n",
       "        vertical-align: top;\n",
       "    }\n",
       "\n",
       "    .dataframe thead th {\n",
       "        text-align: right;\n",
       "    }\n",
       "</style>\n",
       "<table border=\"1\" class=\"dataframe\">\n",
       "  <thead>\n",
       "    <tr style=\"text-align: right;\">\n",
       "      <th></th>\n",
       "      <th>Correlation</th>\n",
       "      <th>num of relevance</th>\n",
       "    </tr>\n",
       "    <tr>\n",
       "      <th>title</th>\n",
       "      <th></th>\n",
       "      <th></th>\n",
       "    </tr>\n",
       "  </thead>\n",
       "  <tbody>\n",
       "    <tr>\n",
       "      <th>$5 a Day (2008)</th>\n",
       "      <td>1.000000</td>\n",
       "      <td>1128</td>\n",
       "    </tr>\n",
       "    <tr>\n",
       "      <th>Duets (2000)</th>\n",
       "      <td>0.622462</td>\n",
       "      <td>1128</td>\n",
       "    </tr>\n",
       "    <tr>\n",
       "      <th>Jeff, Who Lives at Home (2012)</th>\n",
       "      <td>0.603878</td>\n",
       "      <td>1128</td>\n",
       "    </tr>\n",
       "    <tr>\n",
       "      <th>Waking Up in Reno (2002)</th>\n",
       "      <td>0.598059</td>\n",
       "      <td>1128</td>\n",
       "    </tr>\n",
       "    <tr>\n",
       "      <th>Larger Than Life (1996)</th>\n",
       "      <td>0.582458</td>\n",
       "      <td>1128</td>\n",
       "    </tr>\n",
       "  </tbody>\n",
       "</table>\n",
       "</div>"
      ],
      "text/plain": [
       "                                Correlation  num of relevance\n",
       "title                                                        \n",
       "$5 a Day (2008)                    1.000000              1128\n",
       "Duets (2000)                       0.622462              1128\n",
       "Jeff, Who Lives at Home (2012)     0.603878              1128\n",
       "Waking Up in Reno (2002)           0.598059              1128\n",
       "Larger Than Life (1996)            0.582458              1128"
      ]
     },
     "execution_count": 28,
     "metadata": {},
     "output_type": "execute_result"
    }
   ],
   "source": [
    "corr_starwars[corr_starwars['num of relevance']>100].sort_values('Correlation',ascending=False).head()"
   ]
  },
  {
   "cell_type": "code",
   "execution_count": 29,
   "metadata": {},
   "outputs": [
    {
     "data": {
      "text/html": [
       "<div>\n",
       "<style scoped>\n",
       "    .dataframe tbody tr th:only-of-type {\n",
       "        vertical-align: middle;\n",
       "    }\n",
       "\n",
       "    .dataframe tbody tr th {\n",
       "        vertical-align: top;\n",
       "    }\n",
       "\n",
       "    .dataframe thead th {\n",
       "        text-align: right;\n",
       "    }\n",
       "</style>\n",
       "<table border=\"1\" class=\"dataframe\">\n",
       "  <thead>\n",
       "    <tr style=\"text-align: right;\">\n",
       "      <th></th>\n",
       "      <th>Correlation</th>\n",
       "      <th>num of relevance</th>\n",
       "    </tr>\n",
       "    <tr>\n",
       "      <th>title</th>\n",
       "      <th></th>\n",
       "      <th></th>\n",
       "    </tr>\n",
       "  </thead>\n",
       "  <tbody>\n",
       "    <tr>\n",
       "      <th>$9.99 (2008)</th>\n",
       "      <td>1.000000</td>\n",
       "      <td>1128</td>\n",
       "    </tr>\n",
       "    <tr>\n",
       "      <th>Secret Adventures of Tom Thumb, The (1993)</th>\n",
       "      <td>0.621417</td>\n",
       "      <td>1128</td>\n",
       "    </tr>\n",
       "    <tr>\n",
       "      <th>Small Apartments (2012)</th>\n",
       "      <td>0.604001</td>\n",
       "      <td>1128</td>\n",
       "    </tr>\n",
       "    <tr>\n",
       "      <th>Bringing Out the Dead (1999)</th>\n",
       "      <td>0.592667</td>\n",
       "      <td>1128</td>\n",
       "    </tr>\n",
       "    <tr>\n",
       "      <th>Montenegro (1981)</th>\n",
       "      <td>0.589604</td>\n",
       "      <td>1128</td>\n",
       "    </tr>\n",
       "  </tbody>\n",
       "</table>\n",
       "</div>"
      ],
      "text/plain": [
       "                                            Correlation  num of relevance\n",
       "title                                                                    \n",
       "$9.99 (2008)                                   1.000000              1128\n",
       "Secret Adventures of Tom Thumb, The (1993)     0.621417              1128\n",
       "Small Apartments (2012)                        0.604001              1128\n",
       "Bringing Out the Dead (1999)                   0.592667              1128\n",
       "Montenegro (1981)                              0.589604              1128"
      ]
     },
     "execution_count": 29,
     "metadata": {},
     "output_type": "execute_result"
    }
   ],
   "source": [
    "corr_liarliar = pd.DataFrame(similar_to_liarliar,columns=['Correlation'])\n",
    "corr_liarliar.dropna(inplace=True)\n",
    "corr_liarliar = corr_liarliar.join(relevance['num of relevance'])\n",
    "corr_liarliar[corr_liarliar['num of relevance']>100].sort_values('Correlation',ascending=False).head()"
   ]
  }
 ],
 "metadata": {
  "kernelspec": {
   "display_name": "Python 3.9.12 ('base')",
   "language": "python",
   "name": "python3"
  },
  "language_info": {
   "codemirror_mode": {
    "name": "ipython",
    "version": 3
   },
   "file_extension": ".py",
   "mimetype": "text/x-python",
   "name": "python",
   "nbconvert_exporter": "python",
   "pygments_lexer": "ipython3",
   "version": "3.9.12"
  },
  "orig_nbformat": 4,
  "vscode": {
   "interpreter": {
    "hash": "b252d7cd785b71e172da3ea3f9bb583c7f237978e37e2489541bd05394a3564b"
   }
  }
 },
 "nbformat": 4,
 "nbformat_minor": 2
}
